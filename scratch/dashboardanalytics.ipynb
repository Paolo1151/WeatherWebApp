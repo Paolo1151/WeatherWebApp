{
 "cells": [
  {
   "cell_type": "code",
   "execution_count": 3,
   "metadata": {},
   "outputs": [],
   "source": [
    "import os\n",
    "import sys\n",
    "sys.path.append('..')\n",
    "\n",
    "import sqlalchemy as db\n",
    "from sqlalchemy.orm import sessionmaker\n",
    "\n",
    "import config"
   ]
  },
  {
   "cell_type": "code",
   "execution_count": 5,
   "metadata": {},
   "outputs": [],
   "source": [
    "engine = db.create_engine('sqlite:///../data/weather.db')\n",
    "connection = engine.connect()\n",
    "Session = sessionmaker()\n",
    "Session.configure(bind=engine)"
   ]
  },
  {
   "cell_type": "markdown",
   "metadata": {},
   "source": [
    "# Plotting in Indonesia where the stations are"
   ]
  },
  {
   "cell_type": "code",
   "execution_count": null,
   "metadata": {},
   "outputs": [],
   "source": []
  },
  {
   "cell_type": "markdown",
   "metadata": {},
   "source": [
    "# Average Temp by Station by Date"
   ]
  },
  {
   "cell_type": "markdown",
   "metadata": {},
   "source": [
    "Requirements:\n",
    "- Yearly, Quarterly, Monthly, Weekly, Daily Aggregations\n",
    "\n",
    "\n",
    "Facts\n",
    "- Tn, Tx, Tavg, RH_avg, RR, ss, ff_x, ddd_x, ff_avg, ddd_car\n",
    "\n",
    "Dimensions\n",
    "- Date\n",
    "- Station\n",
    "- Province"
   ]
  }
 ],
 "metadata": {
  "kernelspec": {
   "display_name": "Python 3.9.12 ('dsenv')",
   "language": "python",
   "name": "python3"
  },
  "language_info": {
   "codemirror_mode": {
    "name": "ipython",
    "version": 3
   },
   "file_extension": ".py",
   "mimetype": "text/x-python",
   "name": "python",
   "nbconvert_exporter": "python",
   "pygments_lexer": "ipython3",
   "version": "3.9.12"
  },
  "orig_nbformat": 4,
  "vscode": {
   "interpreter": {
    "hash": "57f33db8188eeca27b98325a77446146cbda6fa03e4a40235f67738ff9616fe2"
   }
  }
 },
 "nbformat": 4,
 "nbformat_minor": 2
}
